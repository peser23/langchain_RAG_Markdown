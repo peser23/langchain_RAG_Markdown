{
 "cells": [
  {
   "cell_type": "code",
   "execution_count": 2,
   "id": "e28af7f9",
   "metadata": {},
   "outputs": [],
   "source": [
    "from langchain_openai import OpenAIEmbeddings\n",
    "from langchain.evaluation import load_evaluator"
   ]
  },
  {
   "cell_type": "code",
   "execution_count": null,
   "id": "46ad7593",
   "metadata": {},
   "outputs": [],
   "source": [
    "embdeddings = OpenAIEmbeddings(model=\"text-embedding-3-small\")\n",
    "vector_apple = embdeddings.embed_query(\"apple\")\n",
    "vector_banana = embdeddings.embed_query(\"banana\")\n",
    "\n",
    "print(vector_apple)\n",
    "print(vector_banana)"
   ]
  },
  {
   "cell_type": "code",
   "execution_count": 12,
   "id": "92be7ee1",
   "metadata": {},
   "outputs": [
    {
     "name": "stdout",
     "output_type": "stream",
     "text": [
      "{'score': 0.09709082173706285}\n"
     ]
    }
   ],
   "source": [
    "evaluator = load_evaluator(\"pairwise_embedding_distance\")\n",
    "result = evaluator.evaluate_string_pairs(prediction=\"apple\", prediction_b=\"iphone\")\n",
    "print(result)"
   ]
  }
 ],
 "metadata": {
  "kernelspec": {
   "display_name": ".venv",
   "language": "python",
   "name": "python3"
  },
  "language_info": {
   "codemirror_mode": {
    "name": "ipython",
    "version": 3
   },
   "file_extension": ".py",
   "mimetype": "text/x-python",
   "name": "python",
   "nbconvert_exporter": "python",
   "pygments_lexer": "ipython3",
   "version": "3.13.5"
  }
 },
 "nbformat": 4,
 "nbformat_minor": 5
}
